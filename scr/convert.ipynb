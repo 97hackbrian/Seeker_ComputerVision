{
 "cells": [
  {
   "cell_type": "code",
   "execution_count": null,
   "metadata": {},
   "outputs": [],
   "source": [
    "import torch\n",
    "\n",
    "# Cargar el modelo YOLO preentrenado\n",
    "model = torch.load('/home/hackbrian/Documentos/gitProyects/Seeker_ComputerVision/YoloTrain/runs/segment/train/weights/best.pt')\n",
    "\n",
    "# Convertir el modelo a formato ONNX\n",
    "dummy_input = torch.randn(1, 3, 640, 640)  # Puedes ajustar las dimensiones según tus datos de entrada\n",
    "torch.onnx.export(model, dummy_input, '/home/hackbrian/Documentos/gitProyects/Seeker_ComputerVision/YoloTrain/runs/segment/train/weights/best.onnx', opset_version=11)\n",
    "\n",
    "\n"
   ]
  },
  {
   "cell_type": "code",
   "execution_count": null,
   "metadata": {},
   "outputs": [],
   "source": [
    "\n",
    "import torch\n",
    "\n",
    "# Cargar el modelo YOLO preentrenado\n",
    "model = torch.load('yolov5s.pt')\n",
    "\n",
    "# Ejecutar el modelo en modo de evaluación\n",
    "model.eval()\n",
    "\n",
    "# Crear una entrada de ejemplo\n",
    "example_input = torch.randn(1, 3, 640, 640)  # Ajusta las dimensiones según tus datos de entrada\n",
    "\n",
    "# Exportar el modelo a TorchScript\n",
    "traced_script_model = torch.jit.trace(model, example_input)\n",
    "traced_script_model.save('yolov5s_script_model.pt')\n"
   ]
  },
  {
   "cell_type": "code",
   "execution_count": null,
   "metadata": {},
   "outputs": [],
   "source": [
    "import torch\n",
    "\n",
    "# Cargar el modelo TorchScript\n",
    "model = torch.jit.load('yolov5s_script_model.pt')\n",
    "\n",
    "# Preparar datos de entrada\n",
    "input_data = torch.randn(1, 3, 640, 640)  # Ajusta las dimensiones según tus datos de entrada\n",
    "\n",
    "# Realizar inferencia\n",
    "with torch.no_grad():\n",
    "    output = model(input_data)\n"
   ]
  }
 ],
 "metadata": {
  "language_info": {
   "name": "python"
  }
 },
 "nbformat": 4,
 "nbformat_minor": 2
}
