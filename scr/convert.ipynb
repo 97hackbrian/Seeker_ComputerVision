{
 "cells": [
  {
   "cell_type": "code",
   "execution_count": null,
   "metadata": {},
   "outputs": [],
   "source": [
    "import torch\n",
    "import ultralytics\n",
    "\n",
    "# Cargar el modelo YOLO preentrenado\n",
    "model = torch.load('/home/hackbrian/gitProyects/Seeker_ComputerVision/YoloTrain/runs/segment/train/weights/best.pt')\n",
    "\n",
    "# Convertir el modelo a formato ONNX\n",
    "dummy_input = torch.randn(1, 3, 640, 640)  # Puedes ajustar las dimensiones según tus datos de entrada\n",
    "torch.onnx.export(model, dummy_input, '/home/hackbrian/gitProyects/Seeker_ComputerVision/YoloTrain/runs/segment/train/weights/best.onnx', opset_version=11)\n",
    "\n",
    "\n"
   ]
  },
  {
   "cell_type": "code",
   "execution_count": null,
   "metadata": {},
   "outputs": [],
   "source": [
    "\n",
    "import torch\n",
    "import ultralytics\n",
    "\n",
    "# Cargar el modelo YOLO preentrenado\n",
    "model = torch.load('/home/hackbrian/gitProyects/Seeker_ComputerVision/YoloTrain/runs/segment/train/weights/best.pt')\n",
    "\n",
    "# Ejecutar el modelo en modo de evaluación\n",
    "model.eval()\n",
    "\n",
    "# Crear una entrada de ejemplo\n",
    "example_input = torch.randn(1, 3, 640, 640)  # Ajusta las dimensiones según tus datos de entrada\n",
    "\n",
    "# Exportar el modelo a TorchScript\n",
    "traced_script_model = torch.jit.trace(model, example_input)\n",
    "traced_script_model.save('/home/hackbrian/gitProyects/Seeker_ComputerVision/YoloTrain/runs/segment/train/weights/bestJIT.pt')\n"
   ]
  },
  {
   "cell_type": "code",
   "execution_count": null,
   "metadata": {},
   "outputs": [],
   "source": [
    "import torch\n",
    "\n",
    "# Cargar el modelo TorchScript\n",
    "model = torch.jit.load('yolov5s_script_model.pt')\n",
    "\n",
    "# Preparar datos de entrada\n",
    "input_data = torch.randn(1, 3, 640, 640)  # Ajusta las dimensiones según tus datos de entrada\n",
    "\n",
    "# Realizar inferencia\n",
    "with torch.no_grad():\n",
    "    output = model(input_data)\n"
   ]
  },
  {
   "cell_type": "code",
   "execution_count": null,
   "metadata": {},
   "outputs": [],
   "source": [
    "import torch\n",
    "import cv2\n",
    "import torchvision.transforms as T\n",
    "\n",
    "# Cargar el modelo previamente entrenado\n",
    "model = torch.load(\"/home/hackbrian/Documentos/gitProyects/Seeker_ComputerVision/YoloTrain/runs/segment/train/weights/best.pt\")\n",
    "model.eval()\n",
    "\n",
    "# Cargar una imagen de entrada (reemplaza 'input_image.jpg' con tu ruta)\n",
    "input_image_path = '/home/hackbrian/Descargas/data/dataV1/images/ground/057.jpg'\n",
    "input_image = cv2.imread(input_image_path)\n",
    "input_image = cv2.cvtColor(input_image, cv2.COLOR_BGR2RGB)  # Convertir a formato RGB\n",
    "\n",
    "# Preprocesar la imagen para que coincida con el formato de entrada del modelo\n",
    "transform = T.Compose([T.ToTensor()])\n",
    "input_image = transform(input_image).unsqueeze(0)  # Añadir dimensión del lote\n",
    "\n",
    "# Realizar la inferencia\n",
    "with torch.no_grad():\n",
    "    predictions = model(input_image)\n",
    "\n",
    "# Mostrar los resultados\n",
    "for prediction in predictions[0]['boxes']:\n",
    "    print(\"Box:\", prediction.numpy())\n",
    "\n",
    "# Puedes continuar con el código para mostrar las predicciones en la imagen utilizando OpenCV, matplotlib, u otra biblioteca de visualización.\n"
   ]
  },
  {
   "cell_type": "code",
   "execution_count": 1,
   "metadata": {},
   "outputs": [
    {
     "name": "stdout",
     "output_type": "stream",
     "text": [
      "Ultralytics YOLOv8.0.217 🚀 Python-3.10.9 torch-2.1.1+cu121 CPU (Intel Core(TM) i7-7700HQ 2.80GHz)\n",
      "YOLOv8n-seg summary (fused): 195 layers, 3258259 parameters, 0 gradients, 12.0 GFLOPs\n",
      "\n",
      "\u001b[34m\u001b[1mPyTorch:\u001b[0m starting from '/home/hackbrian/Documentos/train8/runs/segment/train/weights/best.pt' with input shape (1, 3, 640, 640) BCHW and output shape(s) ((1, 37, 8400), (1, 32, 160, 160)) (6.5 MB)\n",
      "\n",
      "\u001b[34m\u001b[1mONNX:\u001b[0m starting export with onnx 1.15.0 opset 17...\n",
      "\u001b[34m\u001b[1mONNX:\u001b[0m export success ✅ 0.9s, saved as '/home/hackbrian/Documentos/train8/runs/segment/train/weights/best.onnx' (12.6 MB)\n",
      "\n",
      "Export complete (3.0s)\n",
      "Results saved to \u001b[1m/home/hackbrian/Documentos/train8/runs/segment/train/weights\u001b[0m\n",
      "Predict:         yolo predict task=segment model=/home/hackbrian/Documentos/train8/runs/segment/train/weights/best.onnx imgsz=640  \n",
      "Validate:        yolo val task=segment model=/home/hackbrian/Documentos/train8/runs/segment/train/weights/best.onnx imgsz=640 data=dataset.yaml  \n",
      "Visualize:       https://netron.app\n"
     ]
    },
    {
     "data": {
      "text/plain": [
       "'/home/hackbrian/Documentos/train8/runs/segment/train/weights/best.onnx'"
      ]
     },
     "execution_count": 1,
     "metadata": {},
     "output_type": "execute_result"
    }
   ],
   "source": [
    "from ultralytics import YOLO\n",
    "\n",
    "# Load a model\n",
    "#model = YOLO('yolov8n.pt')  # load an official model\n",
    "model = YOLO('/home/hackbrian/Documentos/train8/runs/segment/train/weights/best.pt')  # load a custom trained model\n",
    "\n",
    "# Export the model\n",
    "model.export(format='onnx')"
   ]
  }
 ],
 "metadata": {
  "kernelspec": {
   "display_name": "trainmodel",
   "language": "python",
   "name": "python3"
  },
  "language_info": {
   "codemirror_mode": {
    "name": "ipython",
    "version": 3
   },
   "file_extension": ".py",
   "mimetype": "text/x-python",
   "name": "python",
   "nbconvert_exporter": "python",
   "pygments_lexer": "ipython3",
   "version": "3.10.9"
  }
 },
 "nbformat": 4,
 "nbformat_minor": 2
}
